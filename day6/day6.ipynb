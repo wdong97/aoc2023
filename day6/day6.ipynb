{
 "cells": [
  {
   "cell_type": "markdown",
   "id": "030eaf97-7430-4705-9e56-52461d6a8365",
   "metadata": {},
   "source": [
    "# Input\n",
    "\n",
    "\n",
    "Time:        35     69     68     87\n",
    "\\\n",
    "Distance:   213   1168   1086   1248 \n",
    "\n"
   ]
  },
  {
   "cell_type": "code",
   "execution_count": 3,
   "id": "b84b72ca-2eaf-4b6a-85ce-853e9735cf2e",
   "metadata": {},
   "outputs": [
    {
     "name": "stdout",
     "output_type": "stream",
     "text": [
      "1, distance: 6\n",
      "2, distance: 10\n",
      "3, distance: 12\n",
      "4, distance: 12\n",
      "5, distance: 10\n",
      "6, distance: 6\n",
      "7, distance: 0\n"
     ]
    }
   ],
   "source": [
    "'''\n",
    "Time:        35     69     68     87\n",
    "Distance:   213   1168   1086   1248\n",
    "\n",
    "hold   1 2 3\n",
    "speed  1 2 ?\n",
    "\n",
    "example\n",
    "Time:      7  15   30\n",
    "Distance:  9  40  200\n",
    "\n",
    "first get general formula\n",
    "'''\n",
    "def get_total_dist(hold_time, total_time):\n",
    "    ''' get total distance traveled\n",
    "        according to example, speed = hold time\n",
    "    ''' \n",
    "    remain_time = total_time - hold_time\n",
    "    return hold_time * remain_time\n",
    "    \n",
    "'''\n",
    "test cases\n",
    "hold = 1 total dist = 6\n",
    "2,10\n",
    "3,12\n",
    "4,12\n",
    "5,10\n",
    "6,6\n",
    "7,0\n",
    "'''\n",
    "for i in range(1,8):\n",
    "    print(f\"{i}, distance: {get_total_dist(i,7)}\")\n",
    "''' good vibes '''"
   ]
  },
  {
   "cell_type": "code",
   "execution_count": 11,
   "id": "32dd9fb9-9391-47cc-b0f8-dbe43ef474bd",
   "metadata": {},
   "outputs": [
    {
     "name": "stdout",
     "output_type": "stream",
     "text": [
      "race: 1, total_solutions = 4\n",
      "solution: 4\n",
      "race: 2, total_solutions = 8\n",
      "solution: 32\n",
      "race: 3, total_solutions = 9\n",
      "solution: 288\n"
     ]
    }
   ],
   "source": [
    "# now count amount of times this beats record\n",
    "def get_record_count(total_time, record_dist):\n",
    "    j = 0\n",
    "    for hold_time in range(1, total_time+1):\n",
    "        if get_total_dist(hold_time, total_time) > record_dist:\n",
    "            j+=1\n",
    "    return j\n",
    "\n",
    "# now check against solution on example\n",
    "\n",
    "example_times = [7, 15, 30]\n",
    "ex_records = [9, 40, 200] \n",
    "\n",
    "# helper (too lazy to import numpy lol)\n",
    "def multiplyList(myList):\n",
    "    result = 1\n",
    "    for x in myList:\n",
    "        result = result * x\n",
    "    return result\n",
    "\n",
    "i = 1\n",
    "slns = [] \n",
    "for t, r in zip(example_times, ex_records):\n",
    "    slns.append(get_record_count(t,r))\n",
    "    print(f\"race: {i}, total_solutions = {get_record_count(t,r)}\")\n",
    "    i += 1\n",
    "    print(f\"solution: {multiplyList(slns)}\")\n",
    "''' cash '''"
   ]
  },
  {
   "cell_type": "code",
   "execution_count": 13,
   "id": "501c5653-36ed-4860-9fca-a9ec67e06335",
   "metadata": {},
   "outputs": [
    {
     "name": "stdout",
     "output_type": "stream",
     "text": [
      "race: 1, total_solutions = 20\n",
      "solution: 20\n",
      "race: 2, total_solutions = 10\n",
      "solution: 200\n",
      "race: 3, total_solutions = 17\n",
      "solution: 3400\n",
      "race: 4, total_solutions = 50\n",
      "solution: 170000\n"
     ]
    }
   ],
   "source": [
    "# get day 6 answer \n",
    "day6_times = [35, 69, 68, 87]\n",
    "day6_records = [213, 1168, 1086, 1248]\n",
    "i = 1\n",
    "slns = [] \n",
    "for t, r in zip(day6_times , day6_records):\n",
    "    slns.append(get_record_count(t,r))\n",
    "    print(f\"race: {i}, total_solutions = {get_record_count(t,r)}\")\n",
    "    print(f\"solution: {multiplyList(slns)}\")\n",
    "    i += 1"
   ]
  },
  {
   "cell_type": "code",
   "execution_count": 15,
   "id": "3964f255-c3d7-4cf5-97e1-e7e3345d47e6",
   "metadata": {},
   "outputs": [
    {
     "name": "stdout",
     "output_type": "stream",
     "text": [
      "race: 5, total_solutions = 71503\n"
     ]
    }
   ],
   "source": [
    "# day6 part 2 \n",
    "# test example just to be safe\n",
    "ex2_t = 71530\n",
    "ex2_r = 940200 \n",
    "\n",
    "print(f\"race: {i}, total_solutions = {get_record_count(ex2_t,ex2_r)}\")"
   ]
  },
  {
   "cell_type": "code",
   "execution_count": 16,
   "id": "1ed7d20c-4d46-435c-95be-fbbb00fa3312",
   "metadata": {},
   "outputs": [
    {
     "name": "stdout",
     "output_type": "stream",
     "text": [
      "race: 5, total_solutions = 20537782\n"
     ]
    }
   ],
   "source": [
    "# this is easy wtf\n",
    "print(f\"race: {i}, total_solutions = {get_record_count(35696887,213116810861248)}\")"
   ]
  },
  {
   "cell_type": "code",
   "execution_count": null,
   "id": "d8865b65-c90d-4d0f-9918-f664a1054b6e",
   "metadata": {},
   "outputs": [],
   "source": []
  }
 ],
 "metadata": {
  "kernelspec": {
   "display_name": "Python 3 (ipykernel)",
   "language": "python",
   "name": "python3"
  },
  "language_info": {
   "codemirror_mode": {
    "name": "ipython",
    "version": 3
   },
   "file_extension": ".py",
   "mimetype": "text/x-python",
   "name": "python",
   "nbconvert_exporter": "python",
   "pygments_lexer": "ipython3",
   "version": "3.8.10"
  }
 },
 "nbformat": 4,
 "nbformat_minor": 5
}
