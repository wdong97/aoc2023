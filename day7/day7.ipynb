{
 "cells": [
  {
   "cell_type": "markdown",
   "metadata": {},
   "source": [
    "# need to code logic of this silly card game first ugh"
   ]
  },
  {
   "cell_type": "code",
   "execution_count": 1,
   "metadata": {},
   "outputs": [],
   "source": [
    "# doing this on one screen on shitty hotel wifi is painful \n",
    "# start with defining rules -> dict (k,v), assigning arbitraty values (higher is better)\n",
    "card_values = {'A': 100, 'K': 99, 'Q':98, 'J':97, 'T': 96, '9':95, '8':94, '7':93, '6':92, '5':91, '4':90, '3':89, '2':88}\n",
    "# now need hand heirarcy, which is total value associated per hand (useful for comparison later)\n",
    "def hand_outcomes(hand, card_heirarcy):\n",
    "    # hand is a string\n",
    "    hand_list = [*hand]\n",
    "#     print(hand_list)\n",
    "    hand_value = 0\n",
    "    for card in hand_list:\n",
    "#         print(card_heirarcy[card])\n",
    "        hand_value += card_heirarcy[card]\n",
    "    return hand_value "
   ]
  },
  {
   "cell_type": "code",
   "execution_count": 2,
   "metadata": {},
   "outputs": [
    {
     "data": {
      "text/plain": [
       "[444, 488]"
      ]
     },
     "execution_count": 2,
     "metadata": {},
     "output_type": "execute_result"
    }
   ],
   "source": [
    "#test \n",
    "hands = ['33332', '2AAAA']\n",
    "outcomes = []\n",
    "for hand in hands:\n",
    "    outcomes.append(hand_outcomes(hand, card_values))\n",
    "\n",
    "outcomes\n",
    "# ok turns out due to the dumbass ordering rule (I didnt read that far yet lol) , this doesnt work so need to advise approach... "
   ]
  },
  {
   "cell_type": "code",
   "execution_count": 3,
   "metadata": {},
   "outputs": [
    {
     "data": {
      "text/plain": [
       "'\\nweird ordering but essentially\\n5 of kind : 5\\n4 of kind : 4\\nfull house : 3 \\n3 of kind : 2\\n2 pair : 1\\n1 pair : 0\\nhigh card : -1\\n\\nps i know this can be optimized but im a lazy pos who is only driven by\\nsolutions\\nand not optimization\\n'"
      ]
     },
     "execution_count": 3,
     "metadata": {},
     "output_type": "execute_result"
    }
   ],
   "source": [
    "# i think we can still use above approach to determine orderings, just need to account for combinations\n",
    "def hand_type(hand):\n",
    "    h1 = [*hand]\n",
    "    # first check 5 of kind\n",
    "    if len(set(h1)) == 1:\n",
    "        return 5\n",
    "    elif len(set(h1)) == 2:\n",
    "        # denotes both full house and 4 of kind so need to distinguish\n",
    "        hand_count = {i:h1.count(i) for i in h1}\n",
    "        # sort this dict by value\n",
    "        if hand_count[max(hand_count, key=hand_count.get)] == 4:\n",
    "            return 4\n",
    "        else:\n",
    "            return 3\n",
    "    elif len(set(h1)) == 3:\n",
    "        # need to distinguish between 3 of kind and 2 pair\n",
    "        hand_count = {i:h1.count(i) for i in h1}\n",
    "#         print(max(hand_count, key=hand_count.get))\n",
    "        if hand_count[max(hand_count, key=hand_count.get)] == 3:\n",
    "            return 2\n",
    "        else:\n",
    "            return 1\n",
    "    elif len(set(h1)) == 4: # one pair\n",
    "        return 0\n",
    "    else: #high card\n",
    "        return -1\n",
    "'''\n",
    "weird ordering but essentially\n",
    "5 of kind : 5\n",
    "4 of kind : 4\n",
    "full house : 3 \n",
    "3 of kind : 2\n",
    "2 pair : 1\n",
    "1 pair : 0\n",
    "high card : -1\n",
    "\n",
    "ps i know this can be optimized but im a lazy pos who is only driven by\n",
    "solutions\n",
    "and not optimization\n",
    "'''"
   ]
  },
  {
   "cell_type": "code",
   "execution_count": 4,
   "metadata": {},
   "outputs": [],
   "source": [
    "# now need to account for if you have same type, take ordering heirarchy\n",
    "def compare_hands(hand1,hand2, card_heirarchy):\n",
    "    h1t = hand_type([*hand1])\n",
    "    h2t = hand_type([*hand2])\n",
    "#     print(f\"hand type 1: {h1t} hand type 2: {h2t}\")\n",
    "    if h1t == h2t: #hands are same type\n",
    "        diff_ind = next((i for i, (el1,el2) in enumerate(zip([*hand1], [*hand2])) if el1 != el2),None)\n",
    "        if diff_ind is not None:\n",
    "            #get those values and compare \n",
    "            h1v = [*hand1][diff_ind]\n",
    "            h2v = [*hand2][diff_ind]\n",
    "            if card_heirarchy[h1v] > card_heirarchy[h2v]:\n",
    "                return hand1\n",
    "            else:\n",
    "                return hand2\n",
    "        else:\n",
    "            return hand1\n",
    "    elif h1t > h2t:\n",
    "        return hand1\n",
    "    else: \n",
    "        return hand2"
   ]
  },
  {
   "cell_type": "code",
   "execution_count": 5,
   "metadata": {},
   "outputs": [
    {
     "data": {
      "text/plain": [
       "'33332'"
      ]
     },
     "execution_count": 5,
     "metadata": {},
     "output_type": "execute_result"
    }
   ],
   "source": [
    "compare_hands('33332','2AAAA',card_values)"
   ]
  },
  {
   "cell_type": "code",
   "execution_count": 6,
   "metadata": {},
   "outputs": [
    {
     "data": {
      "text/plain": [
       "'77888'"
      ]
     },
     "execution_count": 6,
     "metadata": {},
     "output_type": "execute_result"
    }
   ],
   "source": [
    "compare_hands('77888','77788',card_values)\n",
    "# im a beast"
   ]
  },
  {
   "cell_type": "code",
   "execution_count": 7,
   "metadata": {},
   "outputs": [],
   "source": [
    "# ok now work in the example scenario\n",
    "# need to implement big brain comparison since its a5 way and my code only takes 2\n",
    "def determine_rank(hands,card_hierarchy):\n",
    "    hand_hierarchy = {}\n",
    "    # take 1, compare iteraively against rest, starting with strongest\n",
    "    for i in range(len(hands)):\n",
    "        winners = []\n",
    "        rank = 0\n",
    "        for hand in hands:\n",
    "            winners.append(compare_hands(hands[i],hand,card_hierarchy))\n",
    "#         print(f\"winners for hand {hands[i]}: {winners}\")\n",
    "        for w in winners:\n",
    "            # count number of times this hand won\n",
    "            if w == hands[i]:\n",
    "                rank += 1\n",
    "        hand_hierarchy[hands[i]] = rank\n",
    "    return hand_hierarchy        \n",
    "        \n",
    "    "
   ]
  },
  {
   "cell_type": "code",
   "execution_count": 8,
   "metadata": {
    "scrolled": false
   },
   "outputs": [
    {
     "data": {
      "text/plain": [
       "{'32T3K': 1, 'T55J5': 4, 'KK677': 3, 'KTJJT': 2, 'QQQJA': 5}"
      ]
     },
     "execution_count": 8,
     "metadata": {},
     "output_type": "execute_result"
    }
   ],
   "source": [
    "# test w example\n",
    "exhands = ['32T3K','T55J5','KK677','KTJJT','QQQJA']\n",
    "determine_rank(exhands,card_values)\n",
    "# lets go"
   ]
  },
  {
   "cell_type": "code",
   "execution_count": 9,
   "metadata": {},
   "outputs": [
    {
     "data": {
      "text/plain": [
       "6440"
      ]
     },
     "execution_count": 9,
     "metadata": {},
     "output_type": "execute_result"
    }
   ],
   "source": [
    "# last part, get winnings\n",
    "winnings = [765,684,28,220,483]\n",
    "total_wins = 0\n",
    "for i,k in enumerate(determine_rank(exhands,card_values)):\n",
    "    total_wins += determine_rank(exhands,card_values)[k]*winnings[i]\n",
    "total_wins"
   ]
  },
  {
   "cell_type": "code",
   "execution_count": 10,
   "metadata": {},
   "outputs": [],
   "source": [
    "# now to get the solution to part 1\n",
    "d7input = []\n",
    "with open('day7data.txt') as f:\n",
    "    lines=f.readlines()\n",
    "    for line in lines:\n",
    "        line=line.strip()\n",
    "        d7input.append(line)\n",
    "# kinda annoying i had to do this manually tbh"
   ]
  },
  {
   "cell_type": "code",
   "execution_count": 11,
   "metadata": {},
   "outputs": [],
   "source": [
    "d7hands = []\n",
    "d7bids = []\n",
    "for line in d7input:\n",
    "    splits = line.split(' ')\n",
    "    hand = splits[0]\n",
    "    bid = splits[1]\n",
    "    d7hands.append(hand)\n",
    "    d7bids.append(bid)"
   ]
  },
  {
   "cell_type": "code",
   "execution_count": 12,
   "metadata": {},
   "outputs": [],
   "source": [
    "d7ranks = determine_rank(d7hands,card_values)"
   ]
  },
  {
   "cell_type": "code",
   "execution_count": 13,
   "metadata": {},
   "outputs": [
    {
     "data": {
      "text/plain": [
       "250232501"
      ]
     },
     "execution_count": 13,
     "metadata": {},
     "output_type": "execute_result"
    }
   ],
   "source": [
    "total_wins = 0\n",
    "for i,k in enumerate(d7ranks):\n",
    "    total_wins += d7ranks[k]*int(d7bids[i])\n",
    "total_wins"
   ]
  },
  {
   "cell_type": "markdown",
   "metadata": {},
   "source": [
    "# part 2"
   ]
  },
  {
   "cell_type": "code",
   "execution_count": 22,
   "metadata": {},
   "outputs": [],
   "source": [
    "# part 2 bullshit\n",
    "card_values2 = {'A': 100, 'K': 99, 'Q':98, 'J':1, 'T': 96, '9':95, '8':94, '7':93, '6':92, '5':91, '4':90, '3':89, '2':88}\n",
    "#modify this fn too\n",
    "def hand_type2(hand):\n",
    "    h1 = [*hand]\n",
    "    # can probably reuse a lot of this, just need to modify the J rule by turning it into most freq card\n",
    "    if len(set(h1)) < 5 and 'J' in h1: # has atleast a pair and J\n",
    "        # get max freq and highest card and turn into J\n",
    "        hand_count = {i:h1.count(i) for i in h1}\n",
    "        most_freq_card = max(hand_count, key=hand_count.get)\n",
    "        # its ok if htere is a tie in this case since we are just comparing hand types\n",
    "        h2 = []\n",
    "        for card in h1:\n",
    "            if card == 'J':\n",
    "                h2.append(most_freq_card)\n",
    "            else:\n",
    "                h2.append(card)\n",
    "        h1 = h2\n",
    "    # first check 5 of kind\n",
    "    if len(set(h1)) == 1:\n",
    "        return 5\n",
    "    elif len(set(h1)) == 2:\n",
    "        # denotes both full house and 4 of kind so need to distinguish\n",
    "        hand_count = {i:h1.count(i) for i in h1}\n",
    "        # sort this dict by value\n",
    "        if hand_count[max(hand_count, key=hand_count.get)] == 4:\n",
    "            return 4\n",
    "        else:\n",
    "            return 3\n",
    "    elif len(set(h1)) == 3:\n",
    "        # need to distinguish between 3 of kind and 2 pair\n",
    "        hand_count = {i:h1.count(i) for i in h1}\n",
    "#         print(max(hand_count, key=hand_count.get))\n",
    "        if hand_count[max(hand_count, key=hand_count.get)] == 3:\n",
    "            return 2\n",
    "        else:\n",
    "            return 1\n",
    "    elif len(set(h1)) == 4: # one pair\n",
    "        return 0\n",
    "    else: #high card\n",
    "        return -1"
   ]
  },
  {
   "cell_type": "code",
   "execution_count": 23,
   "metadata": {},
   "outputs": [
    {
     "data": {
      "text/plain": [
       "3"
      ]
     },
     "execution_count": 23,
     "metadata": {},
     "output_type": "execute_result"
    }
   ],
   "source": [
    "hand_type2('KKQQJ')\n",
    "# cash money"
   ]
  },
  {
   "cell_type": "code",
   "execution_count": 24,
   "metadata": {},
   "outputs": [],
   "source": [
    "#now need to modify comparison - can prob use the same fn since we changed the hierarchy schema, but redoing it cuz im lazy\n",
    "# now need to account for if you have same type, take ordering heirarchy\n",
    "def compare_hands2(hand1,hand2, card_heirarchy):\n",
    "    h1t = hand_type2([*hand1])\n",
    "    h2t = hand_type2([*hand2])\n",
    "#     print(f\"hand type 1: {h1t} hand type 2: {h2t}\")\n",
    "    if h1t == h2t: #hands are same type\n",
    "        diff_ind = next((i for i, (el1,el2) in enumerate(zip([*hand1], [*hand2])) if el1 != el2),None)\n",
    "        if diff_ind is not None:\n",
    "            #get those values and compare \n",
    "            h1v = [*hand1][diff_ind]\n",
    "            h2v = [*hand2][diff_ind]\n",
    "            if card_heirarchy[h1v] > card_heirarchy[h2v]:\n",
    "                return hand1\n",
    "            else:\n",
    "                return hand2\n",
    "        else:\n",
    "            return hand1\n",
    "    elif h1t > h2t:\n",
    "        return hand1\n",
    "    else: \n",
    "        return hand2"
   ]
  },
  {
   "cell_type": "code",
   "execution_count": 32,
   "metadata": {},
   "outputs": [
    {
     "data": {
      "text/plain": [
       "'QQQQ2'"
      ]
     },
     "execution_count": 32,
     "metadata": {},
     "output_type": "execute_result"
    }
   ],
   "source": [
    "compare_hands2('QJQQ2','QQQQ2',card_values2)\n",
    "#ezpz"
   ]
  },
  {
   "cell_type": "code",
   "execution_count": 26,
   "metadata": {},
   "outputs": [],
   "source": [
    "#ez modify, lazy execution\n",
    "def determine_rank2(hands,card_hierarchy):\n",
    "    hand_hierarchy = {}\n",
    "    # take 1, compare iteraively against rest, starting with strongest\n",
    "    for i in range(len(hands)):\n",
    "        winners = []\n",
    "        rank = 0\n",
    "        for hand in hands:\n",
    "            winners.append(compare_hands2(hands[i],hand,card_hierarchy))\n",
    "#         print(f\"winners for hand {hands[i]}: {winners}\")\n",
    "        for w in winners:\n",
    "            # count number of times this hand won\n",
    "            if w == hands[i]:\n",
    "                rank += 1\n",
    "        hand_hierarchy[hands[i]] = rank\n",
    "    return hand_hierarchy        \n",
    "        "
   ]
  },
  {
   "cell_type": "code",
   "execution_count": 27,
   "metadata": {},
   "outputs": [
    {
     "data": {
      "text/plain": [
       "{'32T3K': 1, 'T55J5': 3, 'KK677': 2, 'KTJJT': 5, 'QQQJA': 4}"
      ]
     },
     "execution_count": 27,
     "metadata": {},
     "output_type": "execute_result"
    }
   ],
   "source": [
    "# ok now work in the example scenario\n",
    "exrank2 = determine_rank2(exhands,card_values2)\n",
    "exrank2"
   ]
  },
  {
   "cell_type": "code",
   "execution_count": 28,
   "metadata": {},
   "outputs": [
    {
     "data": {
      "text/plain": [
       "5905"
      ]
     },
     "execution_count": 28,
     "metadata": {},
     "output_type": "execute_result"
    }
   ],
   "source": [
    "# last part, get winnings\n",
    "winnings = [765,684,28,220,483]\n",
    "total_wins = 0\n",
    "for i,k in enumerate(exrank2):\n",
    "    total_wins += exrank2[k]*winnings[i]\n",
    "total_wins\n",
    "#beastmode"
   ]
  },
  {
   "cell_type": "code",
   "execution_count": 39,
   "metadata": {},
   "outputs": [
    {
     "data": {
      "text/plain": [
       "249138943"
      ]
     },
     "execution_count": 39,
     "metadata": {},
     "output_type": "execute_result"
    }
   ],
   "source": [
    "# final answer\n",
    "d7ranks2 = determine_rank2(d7hands,card_values2)\n",
    "total_wins = 0\n",
    "for i,k in enumerate(d7ranks2):\n",
    "    total_wins += d7ranks2[k]*int(d7bids[i])\n",
    "total_wins"
   ]
  },
  {
   "cell_type": "code",
   "execution_count": null,
   "metadata": {},
   "outputs": [],
   "source": []
  }
 ],
 "metadata": {
  "kernelspec": {
   "display_name": "Python 3",
   "language": "python",
   "name": "python3"
  },
  "language_info": {
   "codemirror_mode": {
    "name": "ipython",
    "version": 3
   },
   "file_extension": ".py",
   "mimetype": "text/x-python",
   "name": "python",
   "nbconvert_exporter": "python",
   "pygments_lexer": "ipython3",
   "version": "3.8.10"
  }
 },
 "nbformat": 4,
 "nbformat_minor": 4
}
